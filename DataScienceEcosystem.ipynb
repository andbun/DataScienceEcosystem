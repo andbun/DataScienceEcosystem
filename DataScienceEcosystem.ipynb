{
 "cells": [
  {
   "cell_type": "markdown",
   "id": "11db87a4-c5b0-4c94-8238-126c706872a8",
   "metadata": {},
   "source": [
    "# Data Science Tools and Ecosystem"
   ]
  },
  {
   "cell_type": "markdown",
   "id": "afe0b3c0-b4ef-45c1-b0d6-d632e45d4ea8",
   "metadata": {
    "tags": []
   },
   "source": [
    "In this notebook, Data Science Tools and Ecosystem are summarized."
   ]
  },
  {
   "cell_type": "markdown",
   "id": "6ab64496-53f2-4ec7-ab73-e22fd5c8e168",
   "metadata": {},
   "source": [
    "Some of the popular languages that Data Scientists use are:\n",
    "1. Python\n",
    "2. C++\n",
    "3. Java"
   ]
  },
  {
   "cell_type": "markdown",
   "id": "ea124dc4-0530-4789-8d46-248f72817cc3",
   "metadata": {},
   "source": [
    "Some of the commonly used libraries used by Data Scientists include:\n",
    "1. Pandas\n",
    "2. Numpy\n",
    "3. Scikit-learn"
   ]
  },
  {
   "cell_type": "markdown",
   "id": "0199fd2e-a97e-40cb-abd0-8fee68d3dfdf",
   "metadata": {},
   "source": [
    "|Data Science Tools|\n",
    "|---|\n",
    "|R Studio|\n",
    "|Jupyter|\n",
    "|Apache Zeppelin|\n"
   ]
  },
  {
   "cell_type": "markdown",
   "id": "80ea965f-1a35-4ca4-b012-f423f25bc95d",
   "metadata": {},
   "source": [
    "### Below are a few examples of evaluating arithmetic expressions in Python"
   ]
  },
  {
   "cell_type": "code",
   "execution_count": 4,
   "id": "d783c7de-6782-4234-b4d2-9091b12a4539",
   "metadata": {
    "tags": []
   },
   "outputs": [
    {
     "data": {
      "text/plain": [
       "17"
      ]
     },
     "execution_count": 4,
     "metadata": {},
     "output_type": "execute_result"
    }
   ],
   "source": [
    "#This a simple arithmetic expression to mutiply then add integers\n",
    "(3*4)+5"
   ]
  },
  {
   "cell_type": "code",
   "execution_count": 8,
   "id": "ba6946eb-981f-4c27-85cc-2d9b47687110",
   "metadata": {
    "tags": []
   },
   "outputs": [
    {
     "name": "stdout",
     "output_type": "stream",
     "text": [
      "200 minutes equals to 3.3333333333333335 hour(s).\n"
     ]
    }
   ],
   "source": [
    "#This will convert 200 minutes to hours by diving by 60\n",
    "m=200\n",
    "h=m/60\n",
    "print(f'{m} minutes equals to {h} hour(s).')"
   ]
  },
  {
   "cell_type": "markdown",
   "id": "95039314-4e0b-4b30-a1da-21ce1b8d0fa7",
   "metadata": {},
   "source": [
    "__Objectives:__\n",
    "* List popular languages for Data Science\n",
    "* List data science libraries\n",
    "* Create a table of Data Science tools\n",
    "* Introducing arithmetic expression examples"
   ]
  },
  {
   "cell_type": "markdown",
   "id": "11dc34c9-d7cb-4657-a588-88e776e93d68",
   "metadata": {},
   "source": [
    "## Author\n",
    "Andy Lai Pak Yuen"
   ]
  }
 ],
 "metadata": {
  "kernelspec": {
   "display_name": "Python",
   "language": "python",
   "name": "conda-env-python-py"
  },
  "language_info": {
   "codemirror_mode": {
    "name": "ipython",
    "version": 3
   },
   "file_extension": ".py",
   "mimetype": "text/x-python",
   "name": "python",
   "nbconvert_exporter": "python",
   "pygments_lexer": "ipython3",
   "version": "3.7.12"
  }
 },
 "nbformat": 4,
 "nbformat_minor": 5
}
